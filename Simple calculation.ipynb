{
 "cells": [
  {
   "cell_type": "code",
   "execution_count": 12,
   "metadata": {},
   "outputs": [
    {
     "name": "stdout",
     "output_type": "stream",
     "text": [
      "Addition: 15\n",
      "Subtraction: 5\n",
      "Multiplication: 50\n",
      "Error! Division by zero.\n",
      "Division: 5.0\n",
      "Modulo: 1\n"
     ]
    }
   ],
   "source": [
    "def cal(inputs):\n",
    "    for input_set in inputs:\n",
    "        a, operator, b = input_set\n",
    "        \n",
    "        # Procedure of calculation\n",
    "        if operator == \"+\":\n",
    "            res = a + b\n",
    "            print(f\"Addition: {res}\")\n",
    "\n",
    "        elif operator == \"-\":\n",
    "            res = a - b\n",
    "            print(f\"Subtraction: {res}\")\n",
    "\n",
    "        elif operator == \"*\":\n",
    "            res = a * b\n",
    "            print(f\"Multiplication: {res}\")\n",
    "\n",
    "        elif operator == \"/\":\n",
    "            if b == 0:\n",
    "                print(\"Error! Division by zero.\")\n",
    "            else:\n",
    "                res = a / b\n",
    "                print(f\"Division: {res}\")\n",
    "\n",
    "        elif operator == \"%\":\n",
    "            res = a % b\n",
    "            print(f\"Modulo: {res}\")\n",
    "\n",
    "# Example test cases (replace with your own values)\n",
    "test_inputs = [\n",
    "    (10, '+', 5),\n",
    "    (10, '-', 5),\n",
    "    (10, '*', 5),\n",
    "    (10, '/', 0),  # Division by zero case\n",
    "    (10, '/', 2),\n",
    "    (10, '%', 3)\n",
    "]\n",
    "\n",
    "# Call the function with predefined inputs\n",
    "cal(test_inputs)\n"
   ]
  }
 ],
 "metadata": {
  "kernelspec": {
   "display_name": "Python 3",
   "language": "python",
   "name": "python3"
  },
  "language_info": {
   "codemirror_mode": {
    "name": "ipython",
    "version": 3
   },
   "file_extension": ".py",
   "mimetype": "text/x-python",
   "name": "python",
   "nbconvert_exporter": "python",
   "pygments_lexer": "ipython3",
   "version": "3.10.11"
  }
 },
 "nbformat": 4,
 "nbformat_minor": 2
}
