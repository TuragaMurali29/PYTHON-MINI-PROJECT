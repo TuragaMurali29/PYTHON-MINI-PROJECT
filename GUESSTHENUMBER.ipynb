{
 "cells": [
  {
   "cell_type": "code",
   "execution_count": 4,
   "metadata": {},
   "outputs": [
    {
     "name": "stdout",
     "output_type": "stream",
     "text": [
      "Guess a number between 0 and 10\n",
      "Your guess is not correct!!\n",
      "Your guess is not correct!!\n",
      "Your guess is not correct!!\n",
      "Your guess is not correct!!\n",
      "Your guess is correct!!\n"
     ]
    }
   ],
   "source": [
    "import random\n",
    "\n",
    "# Define the range for the guessing game\n",
    "a = 0\n",
    "b = 10\n",
    "\n",
    "# Generate a random number between a and b (inclusive)\n",
    "guessvalue = random.randint(a, b)\n",
    "\n",
    "# Inform the user about the guessing range\n",
    "print(f\"Guess a number between {a} and {b}\")\n",
    "\n",
    "# Initialize a variable to control the loop\n",
    "isvalue = True\n",
    "\n",
    "while isvalue:\n",
    "    # Prompt the user for input\n",
    "    answer = input(\"Enter your number: \")\n",
    "\n",
    "    # Check if the input is numeric\n",
    "    if answer.isnumeric():\n",
    "        answer = int(answer)  # Convert input to an integer\n",
    "\n",
    "        # Compare user's guess with the generated number\n",
    "        if guessvalue != answer:\n",
    "            print(\"Your guess is not correct!!\")\n",
    "        else:\n",
    "            print(\"Your guess is correct!!\")\n",
    "            isvalue = False  # Exit the loop if the guess is correct\n",
    "    else:\n",
    "        print(\"Please enter a valid number\")\n"
   ]
  }
 ],
 "metadata": {
  "kernelspec": {
   "display_name": "Python 3",
   "language": "python",
   "name": "python3"
  },
  "language_info": {
   "codemirror_mode": {
    "name": "ipython",
    "version": 3
   },
   "file_extension": ".py",
   "mimetype": "text/x-python",
   "name": "python",
   "nbconvert_exporter": "python",
   "pygments_lexer": "ipython3",
   "version": "3.10.11"
  }
 },
 "nbformat": 4,
 "nbformat_minor": 2
}
