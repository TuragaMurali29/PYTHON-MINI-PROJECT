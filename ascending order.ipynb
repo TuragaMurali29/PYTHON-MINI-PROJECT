{
 "cells": [
  {
   "cell_type": "code",
   "execution_count": 15,
   "metadata": {},
   "outputs": [
    {
     "name": "stdout",
     "output_type": "stream",
     "text": [
      "list in ascending order:\n",
      "[10, 20, 30, 40, 50, 60, 70, 80]\n"
     ]
    }
   ],
   "source": [
    "numbers = [60, 50, 40, 20, 80, 70, 30, 10]\n",
    "n = len(numbers)\n",
    "for i in range(n):\n",
    "    for j in range(0, n-i-1):\n",
    "        if numbers[j] > numbers[j + 1]:\n",
    "            numbers[j], numbers[j + 1] = numbers[j + 1], numbers[j]\n",
    "print(\"list in ascending order:\")\n",
    "print(numbers)"
   ]
  },
  {
   "cell_type": "code",
   "execution_count": 16,
   "metadata": {},
   "outputs": [
    {
     "name": "stdout",
     "output_type": "stream",
     "text": [
      "The final output: [8, 5, 3, 2, 1]\n"
     ]
    }
   ],
   "source": [
    "def find_max(lst):\n",
    "    max_val = lst[0]  \n",
    "    for num in lst:\n",
    "        if num >= max_val:\n",
    "            max_val = num  \n",
    "    return max_val \n",
    "def sort_ascending(lst):\n",
    "    sorted_list = [] \n",
    "    while lst:  \n",
    "        max_val = find_max(lst)  \n",
    "        lst.remove(max_val)  \n",
    "        sorted_list.insert(0, max_val)  \n",
    "    print(\"The final output:\", sorted_list[::-1])\n",
    "numbers = [5, 3, 8, 1, 2]\n",
    "sort_ascending(numbers)\n"
   ]
  },
  {
   "cell_type": "code",
   "execution_count": 8,
   "metadata": {},
   "outputs": [
    {
     "name": "stdout",
     "output_type": "stream",
     "text": [
      "list in descending order:\n",
      "[90, 64, 34, 25, 22, 12, 11]\n"
     ]
    }
   ],
   "source": [
    "numbers = [64, 34, 25, 12, 22, 11, 90]\n",
    "n = len(numbers)\n",
    "for i in range(n):\n",
    "    for j in range(0, n-i-1):\n",
    "        if numbers[j] < numbers[j + 1]:\n",
    "            numbers[j], numbers[j + 1] = numbers[j + 1], numbers[j]\n",
    "print(\"list in descending order:\")\n",
    "print(numbers)"
   ]
  }
 ],
 "metadata": {
  "kernelspec": {
   "display_name": "Python 3",
   "language": "python",
   "name": "python3"
  },
  "language_info": {
   "codemirror_mode": {
    "name": "ipython",
    "version": 3
   },
   "file_extension": ".py",
   "mimetype": "text/x-python",
   "name": "python",
   "nbconvert_exporter": "python",
   "pygments_lexer": "ipython3",
   "version": "3.10.11"
  }
 },
 "nbformat": 4,
 "nbformat_minor": 2
}
